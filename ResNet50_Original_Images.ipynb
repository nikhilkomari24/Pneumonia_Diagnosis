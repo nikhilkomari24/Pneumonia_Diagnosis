{
 "cells": [
  {
   "cell_type": "code",
   "execution_count": 30,
   "metadata": {},
   "outputs": [],
   "source": [
    "'''Refernce: https://www.kaggle.com/donpiano/keras-resnet-50-for-pneumonia-x-ray-images'''\n",
    "\n",
    "# Importing all the necessary packages/libraries\n",
    "\n",
    "from keras.applications import ResNet50\n",
    "from keras.applications.resnet50 import preprocess_input, decode_predictions\n",
    "from keras.models import Sequential\n",
    "from keras.layers import Dense, Flatten, GlobalAveragePooling2D\n",
    "from keras.preprocessing.image import ImageDataGenerator, img_to_array, load_img\n",
    "import tracemalloc\n",
    "from pytictoc import TicToc\n",
    "\n",
    "from glob import glob\n",
    "import os\n",
    "import numpy as np\n",
    "import pandas as pd\n",
    "import random\n",
    "from skimage.io import imread\n",
    "import cv2\n",
    "\n",
    "import matplotlib.pyplot as plt"
   ]
  },
  {
   "cell_type": "code",
   "execution_count": 31,
   "metadata": {},
   "outputs": [],
   "source": [
    "# Building pre-trained RESNET50 model\n",
    "\n",
    "num_classes = 1\n",
    "\n",
    "resnet_weights_path = 'resnet50_weights_tf_dim_ordering_tf_kernels_notop.h5' # Pre-trained weights for image classification\n",
    "\n",
    "model = Sequential()\n",
    "\n",
    "model.add(ResNet50(include_top=False, pooling='max', weights=resnet_weights_path)) # Not using default fully-connected layers \n",
    "\n",
    "model.add(Dense(num_classes, activation='sigmoid')) # Adding fully-connected layer for binary classification\n",
    "\n",
    "model.layers[0].trainable = False # Freezing layers using pre-trained weights\n",
    "\n",
    "# Compiling built model\n",
    "\n",
    "model.compile(optimizer='adam', loss='binary_crossentropy', metrics=['accuracy'])"
   ]
  },
  {
   "cell_type": "code",
   "execution_count": 33,
   "metadata": {},
   "outputs": [
    {
     "name": "stdout",
     "output_type": "stream",
     "text": [
      "Found 5216 images belonging to 2 classes.\n",
      "Found 16 images belonging to 2 classes.\n",
      "Found 624 images belonging to 2 classes.\n"
     ]
    }
   ],
   "source": [
    "# Assigning hyperparameter values\n",
    "\n",
    "image_size = 150\n",
    "nb_train_samples = 5216 \n",
    "batch_size = 32\n",
    "\n",
    "EPOCHS = 6\n",
    "STEPS = nb_train_samples / batch_size\n",
    "\n",
    "# Image augmentation using ImageDataGenerator from KERAS\n",
    "\n",
    "data_generator_with_aug = ImageDataGenerator(preprocessing_function=preprocess_input,\n",
    "                                             horizontal_flip = True,\n",
    "                                             width_shift_range = 0.2,\n",
    "                                             height_shift_range = 0.2,\n",
    "                                             shear_range = 0.2,\n",
    "                                             zoom_range = 0.2\n",
    "                                            )\n",
    "            \n",
    "data_generator_no_aug = ImageDataGenerator(preprocessing_function=preprocess_input            \n",
    "                                          )\n",
    "\n",
    "train_generator = data_generator_with_aug.flow_from_directory(\n",
    "       directory = 'chest-xray-pneumonia//chest_xray//train/',\n",
    "       target_size = (image_size, image_size),\n",
    "       batch_size = batch_size,\n",
    "       class_mode = 'binary')\n",
    "\n",
    "validation_generator = data_generator_no_aug.flow_from_directory(\n",
    "       directory = 'chest-xray-pneumonia//chest_xray//val/',\n",
    "       target_size = (image_size, image_size),\n",
    "       class_mode = 'binary')\n",
    "\n",
    "test_generator = data_generator_no_aug.flow_from_directory(\n",
    "       directory = 'chest-xray-pneumonia//chest_xray//test/',\n",
    "       target_size = (image_size, image_size),\n",
    "       batch_size = batch_size,\n",
    "       class_mode = 'binary')"
   ]
  },
  {
   "cell_type": "code",
   "execution_count": 34,
   "metadata": {},
   "outputs": [
    {
     "name": "stdout",
     "output_type": "stream",
     "text": [
      "Epoch 1/6\n",
      "163/163 [==============================] - 876s 5s/step - loss: 0.5701 - accuracy: 0.8489 - val_loss: 0.5666 - val_accuracy: 0.7500\n",
      "Epoch 2/6\n",
      "163/163 [==============================] - 833s 5s/step - loss: 0.2841 - accuracy: 0.9164 - val_loss: 1.6007 - val_accuracy: 0.6250\n",
      "Epoch 3/6\n",
      "163/163 [==============================] - 872s 5s/step - loss: 0.2768 - accuracy: 0.9181 - val_loss: 0.4916 - val_accuracy: 0.8125\n",
      "Epoch 4/6\n",
      "163/163 [==============================] - 872s 5s/step - loss: 0.2680 - accuracy: 0.9231 - val_loss: 0.9047 - val_accuracy: 0.6875\n",
      "Epoch 5/6\n",
      "163/163 [==============================] - 880s 5s/step - loss: 0.2658 - accuracy: 0.9300 - val_loss: 1.5701 - val_accuracy: 0.5625\n",
      "Epoch 6/6\n",
      "163/163 [==============================] - 873s 5s/step - loss: 0.2207 - accuracy: 0.9367 - val_loss: 0.3465 - val_accuracy: 0.8125\n",
      "ResNet50 - Time taken for training --  5216.035301 seconds.\n",
      "ResNet50 - Memory for Training --870 memory blocks: 433506.2 KiB\n",
      "\n",
      "accuracy: 86.06%\n"
     ]
    }
   ],
   "source": [
    "t1 = TicToc()\n",
    "\n",
    "tracemalloc.start()\n",
    "\n",
    "t1.tic()\n",
    "\n",
    "# Model training using training dataset from data augmentation function\n",
    "\n",
    "model.fit_generator(\n",
    "       train_generator, # specify where model gets training data\n",
    "       epochs = EPOCHS,\n",
    "       steps_per_epoch=STEPS,\n",
    "       validation_data=validation_generator) # specify where model gets validation data\n",
    "\n",
    "t1.toc('ResNet50 - Time taken for training -- ')\n",
    "\n",
    "snapshot = tracemalloc.take_snapshot()\n",
    "top_stats = snapshot.statistics('traceback')\n",
    "\n",
    "# pick the biggest memory block\n",
    "stat = top_stats[0]\n",
    "print(\"ResNet50 - Memory for Training --%s memory blocks: %.1f KiB\" % (stat.count, stat.size / 1024))"
   ]
  },
  {
   "cell_type": "code",
   "execution_count": 36,
   "metadata": {},
   "outputs": [
    {
     "data": {
      "image/png": "[encoded data removed]",
      "text/plain": [
       "<Figure size 432x288 with 1 Axes>"
      ]
     },
     "metadata": {
      "needs_background": "light"
     },
     "output_type": "display_data"
    }
   ],
   "source": [
    "# Accuracy \n",
    "plt.plot(model.history.history['accuracy'])\n",
    "plt.plot(model.history.history['val_accuracy'])\n",
    "plt.title('Model Accuracy')\n",
    "plt.ylabel('Accuracy')\n",
    "plt.xlabel('Epoch')\n",
    "plt.legend(['Training set', 'Validation set'], loc='upper left')\n",
    "plt.show()"
   ]
  },
  {
   "cell_type": "code",
   "execution_count": 37,
   "metadata": {},
   "outputs": [
    {
     "data": {
      "image/png": "[encoded data removed]",
      "text/plain": [
       "<Figure size 432x288 with 1 Axes>"
      ]
     },
     "metadata": {
      "needs_background": "light"
     },
     "output_type": "display_data"
    }
   ],
   "source": [
    "# Loss \n",
    "plt.plot(model.history.history['loss'])\n",
    "plt.plot(model.history.history['val_loss'])\n",
    "plt.title('Model Loss')\n",
    "plt.ylabel('Loss')\n",
    "plt.xlabel('Epoch')\n",
    "plt.legend(['Training set', 'Test set'], loc='upper left')\n",
    "plt.show()"
   ]
  },
  {
   "cell_type": "code",
   "execution_count": 41,
   "metadata": {},
   "outputs": [
    {
     "name": "stdout",
     "output_type": "stream",
     "text": [
      "ResNet50 - Time taken for predicitng --  97.308830 seconds.\n",
      "CONFUSION MATRIX ------------------\n",
      "[[  0 234]\n",
      " [  0 390]]\n",
      "\n",
      "TEST METRICS ----------------------\n",
      "Accuracy: 62.5%\n",
      "Precision: 62.5%\n",
      "Recall: 100.0%\n",
      "F1-score: 76.92307692307692\n"
     ]
    }
   ],
   "source": [
    "from sklearn.metrics import accuracy_score, confusion_matrix\n",
    "\n",
    "# Creating test arrays and labels to evaluate model performance using accuracy metrics\n",
    "\n",
    "test_data = []\n",
    "test_labels = []\n",
    "\n",
    "img_dims = 150\n",
    "\n",
    "input_path  = 'chest-xray-pneumonia//chest_xray/'\n",
    "\n",
    "for cond in ['/NORMAL/', '/PNEUMONIA/']:\n",
    "    for img in (os.listdir(input_path + 'test' + cond)):\n",
    "        img = plt.imread(input_path+'test'+cond+img)\n",
    "        img = cv2.resize(img, (img_dims, img_dims))\n",
    "        img = np.dstack([img, img, img])\n",
    "        img = img.astype('float32') / 255\n",
    "        if cond=='/NORMAL/':\n",
    "            label = 0\n",
    "        elif cond=='/PNEUMONIA/':\n",
    "            label = 1\n",
    "        test_data.append(img)\n",
    "        test_labels.append(label)\n",
    "\n",
    "test_data = np.array(test_data)\n",
    "test_labels = np.array(test_labels)\n",
    "\n",
    "t1 = TicToc()\n",
    "\n",
    "tracemalloc.start()\n",
    "\n",
    "t1.tic()\n",
    "\n",
    "# Model prediction on test data\n",
    "\n",
    "preds = model.predict(test_data)\n",
    "\n",
    "t1.toc('ResNet50 - Time taken for predicitng -- ')\n",
    "\n",
    "acc = accuracy_score(test_labels, np.round(preds))*100\n",
    "cm = confusion_matrix(test_labels, np.round(preds))\n",
    "tn, fp, fn, tp = cm.ravel()\n",
    "\n",
    "# Model evaluation using accuracy metrics\n",
    "\n",
    "print('CONFUSION MATRIX ------------------')\n",
    "print(cm)\n",
    "\n",
    "print('\\nTEST METRICS ----------------------')\n",
    "precision = tp/(tp+fp)*100\n",
    "recall = tp/(tp+fn)*100\n",
    "print('Accuracy: {}%'.format(acc))\n",
    "print('Precision: {}%'.format(precision))\n",
    "print('Recall: {}%'.format(recall))\n",
    "print('F1-score: {}'.format(2*precision*recall/(precision+recall)))"
   ]
  }
 ],
 "metadata": {
  "kernelspec": {
   "display_name": "Python 3.7.4 64-bit ('base': conda)",
   "language": "python",
   "name": "python37464bitbaseconda9780df63479c48d7964671557cbb1b82"
  },
  "language_info": {
   "codemirror_mode": {
    "name": "ipython",
    "version": 3
   },
   "file_extension": ".py",
   "mimetype": "text/x-python",
   "name": "python",
   "nbconvert_exporter": "python",
   "pygments_lexer": "ipython3",
   "version": "3.7.4"
  }
 },
 "nbformat": 4,
 "nbformat_minor": 2
}
